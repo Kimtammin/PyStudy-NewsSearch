{
 "cells": [
  {
   "cell_type": "code",
   "execution_count": 21,
   "id": "3e3243f6-0abb-4650-8a2d-b63d5c3187cd",
   "metadata": {},
   "outputs": [],
   "source": [
    "import selenium\n",
    "from selenium import webdriver\n",
    "from openpyxl import Workbook\n",
    "from openpyxl import load_workbook\n",
    "from datetime import datetime\n",
    "import time"
   ]
  },
  {
   "cell_type": "code",
   "execution_count": 3,
   "id": "7b7e6eca-522b-4d27-9045-88b43f98f51e",
   "metadata": {},
   "outputs": [],
   "source": [
    "# 1.크롬 드라이버로 네이버 뉴스창 올리기\n",
    "# 2.input으로 헤드라인딸건지 필터딸건지\n",
    "# 3. 헤드라인 인경우\n",
    "#    헤드라인만 대제목만 따서 텍스트,링크로 정리\n",
    "\n",
    "# 4. 필터인경우\n",
    "#     \n",
    "#    한번 더 입력받고 (필터문자)\n",
    "#    \n",
    "#    반복문 와서 - 첫번째칸 a-text 검사하고 필터맞으면 a,href랑 텍스트저장\n",
    "#     그리고 다음칸 링크 가져와서 클릭 10페이지까지 "
   ]
  },
  {
   "cell_type": "code",
   "execution_count": 30,
   "id": "fb5c4c26-315d-416c-8b6f-9fd7fdfba1a1",
   "metadata": {},
   "outputs": [
    {
     "name": "stdin",
     "output_type": "stream",
     "text": [
      "1. header news\n",
      "2. filter news\n",
      " 1\n"
     ]
    },
    {
     "name": "stdout",
     "output_type": "stream",
     "text": [
      "김범수 카카오 \"여러 가지 미흡… 서비스 이용 불편 사과\" [2022 국감] - https://n.news.naver.com/mnews/article/031/0000705130?sid=105\n",
      "1년 만에 또 고개숙인 김범수 “안전에 더 투자하겠다” - https://n.news.naver.com/mnews/article/023/0003724008?sid=105\n",
      "카카오 김범수 \"'먹통 사태' 불편 죄송…피해보상 준비 중\" - https://n.news.naver.com/mnews/article/079/0003699130?sid=105\n",
      "‘먹통 사태’ 카카오 김범수, 오늘 국감 증인대에 - https://n.news.naver.com/mnews/article/011/0004113550?sid=105\n",
      "최태원, 데이터센터 화재에 \"국민 여러분께 송구\" - https://n.news.naver.com/mnews/article/215/0001061597?sid=105\n",
      "최태원 SK 회장 “카카오 사태 책임 느낀다…국민께 송구하다” - https://n.news.naver.com/mnews/article/366/0000849727?sid=105\n",
      "오전 국감 불참한 SK 최태원, 밤 8시 30분 국감 출석 - https://n.news.naver.com/mnews/article/079/0003699294?sid=105\n",
      "최태원 SK 회장, 카카오 먹통 사태에 “송구하다”[국감2022] - https://n.news.naver.com/mnews/article/138/0002135317?sid=105\n",
      "카카오, 유료 서비스 1차 피해보상 규모만 400억…\"무료 이용자도 보상할 것\"[2022 국감] - https://n.news.naver.com/mnews/article/277/0005166377?sid=105\n",
      "카카오 “유료 서비스 피해 보상액 400억원 규모” - https://n.news.naver.com/mnews/article/366/0000849734?sid=105\n",
      "강종렬 SKT인프라 사장 “SKT-SKB 망 구축 비용 연평균 3.3조원\" - https://n.news.naver.com/mnews/article/018/0005348939?sid=105\n",
      "트위치 \"통신3사에 지급한 망 이용료, 다른 나라 30배\"[2022 국감] - https://n.news.naver.com/mnews/article/119/0002650971?sid=105\n",
      "카카오 김범수 \"데이터센터 안정성, 네이버 수준 도달 목표\" - https://n.news.naver.com/mnews/article/003/0011494123?sid=105\n",
      "카카오 김범수 “서버 이중화 미흡에 책임 통감”[2022 국감] - https://n.news.naver.com/mnews/article/119/0002650922?sid=105\n",
      "고개 숙인 박성하 SK C&C 대표 \"피해보상 적극 협의\" - https://n.news.naver.com/mnews/article/003/0011493556?sid=105\n",
      "박성하 SK C&C 대표 \"'책임 통감, 그룹 차원 보상 협의\" - https://n.news.naver.com/mnews/article/008/0004809443?sid=105\n",
      "[속보] 과방위, 김경훈 구글코리아 사장 위증 혐의 고발 - https://n.news.naver.com/mnews/article/011/0004113972?sid=105\n",
      "과방위, 구글코리아 사장 위증죄 고발 - https://n.news.naver.com/mnews/article/001/0013527054?sid=105\n",
      "KAIST, 생각만으로 로봇 팔 제어 ‘뇌-기계 인터페이스’ 시스템 개발 - https://n.news.naver.com/mnews/article/421/0006412159?sid=105\n",
      "[영상] “사지마비 환자들 희소식” 생각만으로 로봇팔 움직였다 - https://n.news.naver.com/mnews/article/016/0002056424?sid=105\n",
      "[코인브리핑] 비트코인 1%대 상승..다시 '자산 피난처'로 컴백? - https://n.news.naver.com/mnews/article/014/0004917189?sid=105\n",
      "[코인브리핑] 11월 FOMC 앞두고 관망세..비트코인 1만9000달러선에서 횡보 - https://n.news.naver.com/mnews/article/014/0004916440?sid=105\n",
      "[코인브리핑] 비트코인 하락세…1만9000달러 아슬 - https://n.news.naver.com/mnews/article/014/0004916124?sid=105\n",
      "[코인브리핑] 비트코인 상승세...5년 내 10배 이상 오른다 - https://n.news.naver.com/mnews/article/014/0004914673?sid=105\n",
      "토스 후불폰 요금제, 중소 MVNO '안도'…시장과열 우려 지적 [IT돋보기] - https://n.news.naver.com/mnews/article/031/0000704881?sid=105\n",
      "넷플릭스, 1% 이용률 '게임' 포기 없다…클라우드 인력에 개발사 확보 [IT돋보기] - https://n.news.naver.com/mnews/article/031/0000704786?sid=105\n",
      "카카오, 창사 이래 최대 위기 봉착…피해 보상안 구체화 속도 낸다 [IT돋보기] - https://n.news.naver.com/mnews/article/031/0000704723?sid=105\n",
      "정부, '카톡 먹통'에 디지털 서비스 이중화 필수…대상 기준 관건 [IT돋보기] - https://n.news.naver.com/mnews/article/031/0000704718?sid=105\n"
     ]
    }
   ],
   "source": [
    "def header_news(driver, write_ws):\n",
    "    global headxl_idx,date\n",
    "    head = driver.find_element_by_class_name('cluster_more_inner')\n",
    "    head.click()\n",
    "    headlines = driver.find_elements_by_class_name('cluster_text_headline')\n",
    "    \n",
    "    write_ws.cell(headxl_idx,1,'Header')\n",
    "    write_ws.cell(headxl_idx,1, date)\n",
    "    for headline in headlines:\n",
    "        headxl_idx+=1\n",
    "        write_ws.cell(headxl_idx,1,headxl_idx-1)\n",
    "        write_ws.cell(headxl_idx,2, headline.text)\n",
    "        write_ws.cell(headxl_idx,3, headline.get_attribute('href'))\n",
    "        print(headline.text + ' - ' + headline.get_attribute('href'))\n",
    "        \n",
    "            \n",
    "def filter_news(driver, write_ws):\n",
    "    word = input('필터할 단어 >>> ')\n",
    "    page = int(input('파싱할 페이지 수 >>> '))\n",
    "\n",
    "    for i in range(2,page+2):\n",
    "        paging = driver.find_element_by_css_selector('#paging > a:nth-child({})'.format(i))\n",
    "        nclicks = driver.find_elements_by_css_selector('#section_body > ul > li > dl > dt:nth-child(2) > a')\n",
    "        for nclick in nclicks:\n",
    "            text = nclick.text\n",
    "            url = nclick.get_attribute('href')\n",
    "            if text.find(word) != -1:\n",
    "                print(text + ' - ' + url)\n",
    "        \n",
    "        paging.click()\n",
    "        time.sleep(0.5)\n",
    "\n",
    "\n",
    "URL = 'https://news.naver.com/main/main.naver?mode=LSD&mid=shm&sid1=105'\n",
    "\n",
    "driver = webdriver.Chrome('chromedriver')\n",
    "driver.get(URL)\n",
    "write_xl = Workbook()\n",
    "write_ws = write_xl.active\n",
    "headxl_idx = 1\n",
    "date = datetime.now().strftime('%Y-%m-%d %H:%M:%S')\n",
    "\n",
    "category = input('1. header news\\n2. filter news\\n')\n",
    "if category == '1':\n",
    "    header_news(driver, write_ws)\n",
    "    write_xl.save('news_url.xlsx')\n",
    "else:\n",
    "    filter_news(driver, write_ws)"
   ]
  },
  {
   "cell_type": "code",
   "execution_count": 36,
   "id": "37211bc0-f9c8-429a-a219-ffe4f2eab6ca",
   "metadata": {},
   "outputs": [
    {
     "data": {
      "text/plain": [
       "<Cell 'Sheet'.D4>"
      ]
     },
     "execution_count": 36,
     "metadata": {},
     "output_type": "execute_result"
    }
   ],
   "source": [
    "load = load_workbook('news_url.xlsx')\n",
    "load_ws = load['Sheet']\n",
    "load_ws.cell(4,4,'hi')"
   ]
  },
  {
   "cell_type": "markdown",
   "id": "115fc775-429a-4562-a414-49f9f5e9960d",
   "metadata": {},
   "source": []
  }
 ],
 "metadata": {
  "kernelspec": {
   "display_name": "Python 3 (ipykernel)",
   "language": "python",
   "name": "python3"
  },
  "language_info": {
   "codemirror_mode": {
    "name": "ipython",
    "version": 3
   },
   "file_extension": ".py",
   "mimetype": "text/x-python",
   "name": "python",
   "nbconvert_exporter": "python",
   "pygments_lexer": "ipython3",
   "version": "3.9.12"
  }
 },
 "nbformat": 4,
 "nbformat_minor": 5
}
